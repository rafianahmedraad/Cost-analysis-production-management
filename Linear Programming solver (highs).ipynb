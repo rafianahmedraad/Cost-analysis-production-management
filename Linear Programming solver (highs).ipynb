{
 "cells": [
  {
   "cell_type": "code",
   "execution_count": 5,
   "id": "00e067ee",
   "metadata": {},
   "outputs": [
    {
     "name": "stdout",
     "output_type": "stream",
     "text": [
      "Optimal Solution:\n",
      "Total Operating Time: 65.0\n",
      "Operator-Machine Assignment Matrix:\n",
      "Operator 1 on Machine 1: 0.0\n",
      "Operator 1 on Machine 2: 1.0\n",
      "Operator 1 on Machine 3: 0.0\n",
      "Operator 2 on Machine 1: 1.0\n",
      "Operator 2 on Machine 2: -0.0\n",
      "Operator 2 on Machine 3: -0.0\n",
      "Operator 3 on Machine 1: 0.0\n",
      "Operator 3 on Machine 2: 0.0\n",
      "Operator 3 on Machine 3: 1.0\n"
     ]
    }
   ],
   "source": [
    "from scipy.optimize import linprog\n",
    "\n",
    "# (total operating time)\n",
    "c = [22, 18, 35, 29, 30, 28, 25, 36, 18]\n",
    "\n",
    "# (machine assignment)\n",
    "A_eq = [\n",
    "    [1, 0, 0, 1, 0, 0, 1, 0, 0],  # Machine 1 assignment\n",
    "    [0, 1, 0, 0, 1, 0, 0, 1, 0],  # Machine 2 assignment\n",
    "    [0, 0, 1, 0, 0, 1, 0, 0, 1]   # Machine 3 assignment\n",
    "]\n",
    "\n",
    "# (operator assignment)\n",
    "A_eq += [\n",
    "    [1, 1, 1, 0, 0, 0, 0, 0, 0],  # Operator 1 assignment\n",
    "    [0, 0, 0, 1, 1, 1, 0, 0, 0],  # Operator 2 assignment\n",
    "    [0, 0, 0, 0, 0, 0, 1, 1, 1]   # Operator 3 assignment\n",
    "]\n",
    "\n",
    "# Right-hand side of the constraints\n",
    "b_eq = [1, 1, 1, 1, 1, 1]\n",
    "\n",
    "# Bounds for (x_ij)\n",
    "bounds = [(0, None)] * len(c)\n",
    "\n",
    "# Solve problem\n",
    "result = linprog(c, A_eq=A_eq, b_eq=b_eq, bounds=bounds, method='highs')\n",
    "\n",
    "\n",
    "print(\"Optimal Solution:\")\n",
    "print(\"Total Operating Time:\", result.fun)\n",
    "print(\"Operator-Machine Assignment Matrix:\")\n",
    "assignment_matrix = result.x.reshape((3, 3))\n",
    "for i in range(3):\n",
    "    for j in range(3):\n",
    "        print(f\"Operator {i + 1} on Machine {j + 1}: {assignment_matrix[i, j]}\")\n"
   ]
  },
  {
   "cell_type": "code",
   "execution_count": null,
   "id": "5a486db2",
   "metadata": {},
   "outputs": [],
   "source": []
  }
 ],
 "metadata": {
  "kernelspec": {
   "display_name": "Python 3 (ipykernel)",
   "language": "python",
   "name": "python3"
  },
  "language_info": {
   "codemirror_mode": {
    "name": "ipython",
    "version": 3
   },
   "file_extension": ".py",
   "mimetype": "text/x-python",
   "name": "python",
   "nbconvert_exporter": "python",
   "pygments_lexer": "ipython3",
   "version": "3.9.7"
  }
 },
 "nbformat": 4,
 "nbformat_minor": 5
}
